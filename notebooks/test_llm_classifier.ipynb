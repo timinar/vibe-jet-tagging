{
  "cells": [
    {
      "cell_type": "markdown",
      "metadata": {},
      "source": [
        "# LLMClassifier Test\n",
        "\n",
        "Test the LLMClassifier on quark/gluon jet data using OpenRouter API.\n"
      ]
    },
    {
      "cell_type": "code",
      "execution_count": 1,
      "metadata": {},
      "outputs": [],
      "source": [
        "%load_ext autoreload\n",
        "%autoreload 2\n",
        "\n",
        "import sys\n",
        "import os\n",
        "import numpy as np\n",
        "from pathlib import Path\n",
        "\n",
        "# Add src to path\n",
        "sys.path.insert(0, str(Path.cwd().parent / 'src'))\n",
        "\n",
        "from vibe_jet_tagging import LLMClassifier\n",
        "from sklearn.metrics import roc_auc_score, accuracy_score\n"
      ]
    },
    {
      "cell_type": "markdown",
      "metadata": {},
      "source": [
        "## Load Data\n",
        "\n",
        "Load the quark/gluon jet dataset.\n"
      ]
    },
    {
      "cell_type": "code",
      "execution_count": 13,
      "metadata": {},
      "outputs": [
        {
          "name": "stdout",
          "output_type": "stream",
          "text": [
            "Loaded 10000 jets\n",
            "X shape: (10000, 139, 4)\n",
            "y shape: (10000,)\n",
            "Quark jets: 5074\n",
            "Gluon jets: 4926\n"
          ]
        }
      ],
      "source": [
        "# Load data\n",
        "data_path = Path.cwd().parent / 'data' / 'qg_jets.npz'\n",
        "data = np.load(data_path)\n",
        "\n",
        "X = data['X']\n",
        "y = data['y']\n",
        "\n",
        "print(f\"Loaded {len(X)} jets\")\n",
        "print(f\"X shape: {X.shape}\")\n",
        "print(f\"y shape: {y.shape}\")\n",
        "print(f\"Quark jets: {(y == 1).sum()}\")\n",
        "print(f\"Gluon jets: {(y == 0).sum()}\")\n"
      ]
    },
    {
      "cell_type": "markdown",
      "metadata": {},
      "source": [
        "## Initialize LLMClassifier\n",
        "\n",
        "Set up the classifier with OpenRouter API.\n",
        "\n",
        "**Note:** Set your OpenRouter API key as an environment variable:\n",
        "```bash\n",
        "export OPENROUTER_API_KEY=\"your-key-here\"\n",
        "```\n"
      ]
    },
    {
      "cell_type": "code",
      "execution_count": 22,
      "metadata": {},
      "outputs": [
        {
          "ename": "ModuleNotFoundError",
          "evalue": "No module named 'dotenv'",
          "output_type": "error",
          "traceback": [
            "\u001b[31m---------------------------------------------------------------------------\u001b[39m",
            "\u001b[31mModuleNotFoundError\u001b[39m                       Traceback (most recent call last)",
            "\u001b[36mCell\u001b[39m\u001b[36m \u001b[39m\u001b[32mIn[22]\u001b[39m\u001b[32m, line 2\u001b[39m\n\u001b[32m      1\u001b[39m \u001b[38;5;66;03m# Load API key from .env file\u001b[39;00m\n\u001b[32m----> \u001b[39m\u001b[32m2\u001b[39m \u001b[38;5;28;01mfrom\u001b[39;00m\u001b[38;5;250m \u001b[39m\u001b[34;01mdotenv\u001b[39;00m\u001b[38;5;250m \u001b[39m\u001b[38;5;28;01mimport\u001b[39;00m load_dotenv\n\u001b[32m      3\u001b[39m load_dotenv()\n\u001b[32m      5\u001b[39m \u001b[38;5;66;03m# Check if API key is set\u001b[39;00m\n",
            "\u001b[31mModuleNotFoundError\u001b[39m: No module named 'dotenv'"
          ]
        }
      ],
      "source": [
        "# Load API key from .env file\n",
        "from dotenv import load_dotenv\n",
        "load_dotenv()\n",
        "\n",
        "# Check if API key is set\n",
        "if 'OPENROUTER_API_KEY' not in os.environ:\n",
        "    print(\"WARNING: OPENROUTER_API_KEY not set. Please set it in .env file.\")\n",
        "    print(\"Create a .env file with: OPENROUTER_API_KEY='your-key-here'\")\n",
        "else:\n",
        "    print(\"✓ API key found\")\n"
      ]
    },
    {
      "cell_type": "code",
      "execution_count": 15,
      "metadata": {},
      "outputs": [
        {
          "name": "stdout",
          "output_type": "stream",
          "text": [
            "Classifier initialized\n",
            "Model: google/gemini-2.5-flash-lite-preview-09-2025\n",
            "Template: simple_list\n",
            "Format: list\n"
          ]
        }
      ],
      "source": [
        "# Initialize classifier\n",
        "clf = LLMClassifier(\n",
        "    model_name=\"google/gemini-2.5-flash-lite-preview-09-2025\",\n",
        "    template_name=\"simple_list\",\n",
        "    format_type=\"list\",\n",
        "    templates_dir=str(Path.cwd().parent / 'templates')\n",
        ")\n",
        "\n",
        "# Fit (no-op for zero-shot)\n",
        "clf.fit([], [])\n",
        "\n",
        "print(\"Classifier initialized\")\n",
        "print(f\"Model: {clf.model_name}\")\n",
        "print(f\"Template: {clf.template_name}\")\n",
        "print(f\"Format: {clf.format_type}\")\n"
      ]
    },
    {
      "cell_type": "markdown",
      "metadata": {},
      "source": [
        "## Test Single Jet Prediction\n"
      ]
    },
    {
      "cell_type": "code",
      "execution_count": 16,
      "metadata": {},
      "outputs": [
        {
          "name": "stdout",
          "output_type": "stream",
          "text": [
            "True label: 1.0 (quark)\n",
            "\n",
            "Jet shape: (139, 4)\n",
            "Number of particles (pt > 0): 18\n",
            "\n",
            "Predicted label: 0 (gluon)\n",
            "Correct: False\n"
          ]
        }
      ],
      "source": [
        "# Test on a single jet\n",
        "test_jet = X[0]\n",
        "true_label = y[0]\n",
        "\n",
        "print(f\"True label: {true_label} ({'quark' if true_label == 1 else 'gluon'})\")\n",
        "print(f\"\\nJet shape: {test_jet.shape}\")\n",
        "print(f\"Number of particles (pt > 0): {(test_jet[:, 0] > 0).sum()}\")\n",
        "\n",
        "# Make prediction\n",
        "prediction = clf.predict([test_jet])[0]\n",
        "print(f\"\\nPredicted label: {prediction} ({'quark' if prediction == 1 else 'gluon'})\")\n",
        "print(f\"Correct: {prediction == true_label}\")\n"
      ]
    },
    {
      "cell_type": "code",
      "execution_count": 17,
      "metadata": {},
      "outputs": [
        {
          "name": "stdout",
          "output_type": "stream",
          "text": [
            "================================================================================\n",
            "PROMPT PREVIEW\n",
            "================================================================================\n",
            "Model: google/gemini-2.5-flash-lite-preview-09-2025\n",
            "Template: simple_list\n",
            "Format: list\n",
            "Temperature: 0.0\n",
            "Max tokens: 100\n",
            "\n",
            "--------------------------------------------------------------------------------\n",
            "SYSTEM MESSAGE:\n",
            "--------------------------------------------------------------------------------\n",
            "Reasoning: disabled\n",
            "\n",
            "--------------------------------------------------------------------------------\n",
            "USER MESSAGE:\n",
            "--------------------------------------------------------------------------------\n",
            "You are a particle physics expert. Your task is to classify whether a jet is initiated by a quark (label: 1) or a gluon (label: 0).\n",
            "\n",
            "A jet consists of particles, each with the following properties:\n",
            "- pt: transverse momentum (GeV)\n",
            "- y: rapidity\n",
            "- phi: azimuthal angle (radians)\n",
            "- pid: particle ID\n",
            "\n",
            "Here is the jet data:\n",
            "Particle 1: pt=0.269 GeV, y=0.357, phi=4.741, pid=22\n",
            "Particle 2: pt=0.160 GeV, y=-0.256, phi=4.550, pid=22\n",
            "Particle 3: pt=1.149 GeV, y=-0.062, phi=4.504, pid=-211\n",
            "Particle 4: pt=4.132 GeV, y=0.174, phi=4.766, pid=-321\n",
            "Particle 5: pt=1.696 GeV, y=-0.212, phi=4.797, pid=-211\n",
            "Particle 6: pt=2.194 GeV, y=-0.052, phi=4.576, pid=22\n",
            "Particle 7: pt=1.619 GeV, y=-0.068, phi=4.646, pid=22\n",
            "Particle 8: pt=6.592 GeV, y=0.044, phi=4.766, pid=211\n",
            "Particle 9: pt=3.771 GeV, y=0.042, phi=4.755, pid=321\n",
            "Particle 10: pt=13.482 GeV, y=-0.028, phi=4.735, pid=-211\n",
            "Particle 11: pt=4.108 GeV, y=-0.024, phi=4.759, pid=22\n",
            "Particle 12: pt=21.646 GeV, y=-0.027, phi=4.760, pid=22\n",
            "Particle 13: pt=6.776 GeV, y=-0.030, phi=4.761, pid=22\n",
            "Particle 14: pt=13.255 GeV, y=-0.039, phi=4.749, pid=22\n",
            "Particle 15: pt=2.984 GeV, y=-0.037, phi=4.746, pid=22\n",
            "Particle 16: pt=37.374 GeV, y=-0.035, phi=4.755, pid=22\n",
            "Particle 17: pt=335.399 GeV, y=-0.033, phi=4.751, pid=22\n",
            "Particle 18: pt=44.214 GeV, y=-0.033, phi=4.754, pid=22\n",
            "\n",
            "Based on the particle content and kinematics, is this a quark jet (1) or gluon jet (0)?\n",
            "\n",
            "Respond with ONLY the number 0 or 1, nothing else.\n",
            "================================================================================\n"
          ]
        }
      ],
      "source": [
        "clf.preview_prompt(test_jet)"
      ]
    },
    {
      "cell_type": "markdown",
      "metadata": {},
      "source": [
        "## Test on 100 Jets\n",
        "\n",
        "Run the classifier on 100 jets and compute metrics.\n"
      ]
    },
    {
      "cell_type": "code",
      "execution_count": 18,
      "metadata": {},
      "outputs": [
        {
          "name": "stdout",
          "output_type": "stream",
          "text": [
            "Testing on 100 jets...\n",
            "True distribution: 55 quark, 45 gluon\n"
          ]
        }
      ],
      "source": [
        "# Select 100 jets\n",
        "n_test = 100\n",
        "X_test = X[:n_test]\n",
        "y_test = y[:n_test]\n",
        "\n",
        "print(f\"Testing on {n_test} jets...\")\n",
        "print(f\"True distribution: {(y_test == 1).sum()} quark, {(y_test == 0).sum()} gluon\")\n"
      ]
    },
    {
      "cell_type": "code",
      "execution_count": 19,
      "metadata": {},
      "outputs": [
        {
          "name": "stderr",
          "output_type": "stream",
          "text": [
            "  0%|          | 0/100 [00:00<?, ?it/s]"
          ]
        },
        {
          "name": "stderr",
          "output_type": "stream",
          "text": [
            " 10%|█         | 10/100 [00:05<00:48,  1.86it/s]"
          ]
        },
        {
          "name": "stdout",
          "output_type": "stream",
          "text": [
            "After 10 jets: Accuracy = 0.300\n"
          ]
        },
        {
          "name": "stderr",
          "output_type": "stream",
          "text": [
            " 20%|██        | 20/100 [00:10<00:43,  1.83it/s]"
          ]
        },
        {
          "name": "stdout",
          "output_type": "stream",
          "text": [
            "After 20 jets: Accuracy = 0.350\n"
          ]
        },
        {
          "name": "stderr",
          "output_type": "stream",
          "text": [
            " 30%|███       | 30/100 [00:16<00:45,  1.54it/s]"
          ]
        },
        {
          "name": "stdout",
          "output_type": "stream",
          "text": [
            "After 30 jets: Accuracy = 0.400\n"
          ]
        },
        {
          "name": "stderr",
          "output_type": "stream",
          "text": [
            " 40%|████      | 40/100 [00:22<00:36,  1.64it/s]"
          ]
        },
        {
          "name": "stdout",
          "output_type": "stream",
          "text": [
            "After 40 jets: Accuracy = 0.450\n"
          ]
        },
        {
          "name": "stderr",
          "output_type": "stream",
          "text": [
            " 50%|█████     | 50/100 [00:28<00:30,  1.66it/s]"
          ]
        },
        {
          "name": "stdout",
          "output_type": "stream",
          "text": [
            "After 50 jets: Accuracy = 0.440\n"
          ]
        },
        {
          "name": "stderr",
          "output_type": "stream",
          "text": [
            " 60%|██████    | 60/100 [00:34<00:21,  1.88it/s]"
          ]
        },
        {
          "name": "stdout",
          "output_type": "stream",
          "text": [
            "After 60 jets: Accuracy = 0.467\n"
          ]
        },
        {
          "name": "stderr",
          "output_type": "stream",
          "text": [
            " 70%|███████   | 70/100 [00:40<00:17,  1.67it/s]"
          ]
        },
        {
          "name": "stdout",
          "output_type": "stream",
          "text": [
            "After 70 jets: Accuracy = 0.486\n"
          ]
        },
        {
          "name": "stderr",
          "output_type": "stream",
          "text": [
            " 80%|████████  | 80/100 [00:45<00:11,  1.67it/s]"
          ]
        },
        {
          "name": "stdout",
          "output_type": "stream",
          "text": [
            "After 80 jets: Accuracy = 0.512\n"
          ]
        },
        {
          "name": "stderr",
          "output_type": "stream",
          "text": [
            " 90%|█████████ | 90/100 [00:51<00:05,  1.79it/s]"
          ]
        },
        {
          "name": "stdout",
          "output_type": "stream",
          "text": [
            "After 90 jets: Accuracy = 0.522\n"
          ]
        },
        {
          "name": "stderr",
          "output_type": "stream",
          "text": [
            "100%|██████████| 100/100 [00:58<00:00,  1.71it/s]"
          ]
        },
        {
          "name": "stdout",
          "output_type": "stream",
          "text": [
            "After 100 jets: Accuracy = 0.520\n"
          ]
        },
        {
          "name": "stderr",
          "output_type": "stream",
          "text": [
            "\n"
          ]
        }
      ],
      "source": [
        "# Make predictions (this will take a while)\n",
        "from tqdm.auto import tqdm\n",
        "\n",
        "predictions = []\n",
        "for i, jet in enumerate(tqdm(X_test)):\n",
        "    pred = clf.predict([jet])[0]\n",
        "    predictions.append(pred)\n",
        "    \n",
        "    # Print progress every 10 jets\n",
        "    if (i + 1) % 10 == 0:\n",
        "        acc = accuracy_score(y_test[:i+1], predictions)\n",
        "        print(f\"After {i+1} jets: Accuracy = {acc:.3f}\")\n",
        "\n",
        "predictions = np.array(predictions)\n"
      ]
    },
    {
      "cell_type": "markdown",
      "metadata": {},
      "source": [
        "## Evaluate Performance\n"
      ]
    },
    {
      "cell_type": "code",
      "execution_count": 20,
      "metadata": {},
      "outputs": [
        {
          "name": "stdout",
          "output_type": "stream",
          "text": [
            "\n",
            "==================================================\n",
            "RESULTS\n",
            "==================================================\n",
            "Accuracy: 0.520\n",
            "AUC Score: 0.549\n",
            "\n",
            "Predicted distribution: 21 quark, 79 gluon\n",
            "True distribution: 55 quark, 45 gluon\n"
          ]
        }
      ],
      "source": [
        "# Calculate metrics\n",
        "accuracy = accuracy_score(y_test, predictions)\n",
        "auc = roc_auc_score(y_test, predictions)\n",
        "\n",
        "print(\"\\n\" + \"=\"*50)\n",
        "print(\"RESULTS\")\n",
        "print(\"=\"*50)\n",
        "print(f\"Accuracy: {accuracy:.3f}\")\n",
        "print(f\"AUC Score: {auc:.3f}\")\n",
        "print(f\"\\nPredicted distribution: {(predictions == 1).sum()} quark, {(predictions == 0).sum()} gluon\")\n",
        "print(f\"True distribution: {(y_test == 1).sum()} quark, {(y_test == 0).sum()} gluon\")\n"
      ]
    },
    {
      "cell_type": "code",
      "execution_count": 21,
      "metadata": {},
      "outputs": [
        {
          "name": "stdout",
          "output_type": "stream",
          "text": [
            "\n",
            "Confusion Matrix:\n",
            "                Predicted\n",
            "                Gluon  Quark\n",
            "True  Gluon        38      7\n",
            "      Quark        41     14\n"
          ]
        }
      ],
      "source": [
        "# Confusion matrix\n",
        "from sklearn.metrics import confusion_matrix\n",
        "\n",
        "cm = confusion_matrix(y_test, predictions)\n",
        "print(\"\\nConfusion Matrix:\")\n",
        "print(\"                Predicted\")\n",
        "print(\"                Gluon  Quark\")\n",
        "print(f\"True  Gluon     {cm[0,0]:5d}  {cm[0,1]:5d}\")\n",
        "print(f\"      Quark     {cm[1,0]:5d}  {cm[1,1]:5d}\")\n"
      ]
    },
    {
      "cell_type": "code",
      "execution_count": null,
      "metadata": {},
      "outputs": [],
      "source": []
    }
  ],
  "metadata": {
    "kernelspec": {
      "display_name": ".venv",
      "language": "python",
      "name": "python3"
    },
    "language_info": {
      "codemirror_mode": {
        "name": "ipython",
        "version": 3
      },
      "file_extension": ".py",
      "mimetype": "text/x-python",
      "name": "python",
      "nbconvert_exporter": "python",
      "pygments_lexer": "ipython3",
      "version": "3.13.2"
    }
  },
  "nbformat": 4,
  "nbformat_minor": 2
}
