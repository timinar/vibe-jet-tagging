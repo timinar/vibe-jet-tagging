{
  "cells": [
    {
      "cell_type": "markdown",
      "metadata": {},
      "source": [
        "# Feature Extraction Demo\n",
        "\n",
        "This notebook demonstrates the new feature extraction system for LLM-based jet classification.\n",
        "\n",
        "**New Features:**\n",
        "1. Config-based initialization\n",
        "2. Modular feature extractors (basic, kinematic, concentration, full)\n",
        "3. Auto-detection of required features from template placeholders\n",
        "4. Feature-based prompt templates\n",
        "\n",
        "**Goal:** Compare raw particle templates vs feature-based templates on a small sample.\n"
      ]
    },
    {
      "cell_type": "code",
      "execution_count": 2,
      "metadata": {},
      "outputs": [
        {
          "name": "stdout",
          "output_type": "stream",
          "text": [
            "The autoreload extension is already loaded. To reload it, use:\n",
            "  %reload_ext autoreload\n"
          ]
        }
      ],
      "source": [
        "%load_ext autoreload\n",
        "%autoreload 2\n",
        "\n",
        "import sys\n",
        "import numpy as np\n",
        "from pathlib import Path\n",
        "\n",
        "# Add src to path\n",
        "sys.path.insert(0, str(Path.cwd().parent / 'src'))\n",
        "\n",
        "from vibe_jet_tagging import LLMClassifier\n",
        "from vibe_jet_tagging.config import LLMConfig\n",
        "from vibe_jet_tagging.feature_extractors import BasicExtractor, KinematicExtractor, FullExtractor\n",
        "from sklearn.metrics import accuracy_score, roc_auc_score"
      ]
    },
    {
      "cell_type": "markdown",
      "metadata": {},
      "source": [
        "## 1. Load Data & Demo Feature Extractors\n"
      ]
    },
    {
      "cell_type": "code",
      "execution_count": 3,
      "metadata": {},
      "outputs": [
        {
          "name": "stdout",
          "output_type": "stream",
          "text": [
            "Loaded 10 test jets\n",
            "  Quark: 9\n",
            "  Gluon: 1\n",
            "\n",
            "Sample jet label: Quark\n",
            "\n",
            "Basic Extractor:\n",
            "  multiplicity: 18\n",
            "\n",
            "Kinematic Extractor:\n",
            "  multiplicity: 18\n",
            "  mean_pt: 27.82\n",
            "  std_pt: 75.61\n",
            "\n",
            "Full Extractor:\n",
            "  multiplicity: 18\n",
            "  mean_pt: 27.82\n",
            "  std_pt: 75.61\n"
          ]
        }
      ],
      "source": [
        "# Load dataset\n",
        "data_path = Path.cwd().parent / 'data' / 'qg_jets.npz'\n",
        "data = np.load(data_path)\n",
        "\n",
        "X = data['X']\n",
        "y = data['y']\n",
        "\n",
        "# Use a small test set (10 jets for quick API testing)\n",
        "n_test = 10\n",
        "X_test = X[:n_test]\n",
        "y_test = y[:n_test]\n",
        "\n",
        "print(f\"Loaded {n_test} test jets\")\n",
        "print(f\"  Quark: {np.sum(y_test == 1)}\")\n",
        "print(f\"  Gluon: {np.sum(y_test == 0)}\")\n",
        "\n",
        "# Demo extractors on first jet\n",
        "sample_jet = X_test[0]\n",
        "print(f\"\\nSample jet label: {'Quark' if y_test[0] == 1 else 'Gluon'}\")\n",
        "\n",
        "extractors = {\n",
        "    'Basic': BasicExtractor(),\n",
        "    'Kinematic': KinematicExtractor(),\n",
        "    'Full': FullExtractor(),\n",
        "}\n",
        "\n",
        "for name, extractor in extractors.items():\n",
        "    features = extractor.extract(sample_jet)\n",
        "    print(f\"\\n{name} Extractor:\")\n",
        "    for key, value in list(features.items())[:3]:  # Show first 3 features\n",
        "        print(f\"  {key}: {value:.2f}\" if key != 'multiplicity' else f\"  {key}: {int(value)}\")\n"
      ]
    },
    {
      "cell_type": "markdown",
      "metadata": {},
      "source": [
        "## 2. Compare: Raw Particles vs Features\n",
        "\n",
        "Preview how prompts look with raw particles vs extracted features.\n"
      ]
    },
    {
      "cell_type": "code",
      "execution_count": 4,
      "metadata": {},
      "outputs": [
        {
          "name": "stdout",
          "output_type": "stream",
          "text": [
            "================================================================================\n",
            "RAW PARTICLES TEMPLATE\n",
            "================================================================================\n",
            "================================================================================\n",
            "PROMPT PREVIEW\n",
            "================================================================================\n",
            "Model: gemini-2.5-flash-lite-preview-09-2025\n",
            "Template: simple_list\n",
            "Format: list\n",
            "Feature Extractor: None\n",
            "Max output tokens: 1000\n",
            "Thinking budget: None\n",
            "\n",
            "--------------------------------------------------------------------------------\n",
            "PROMPT:\n",
            "--------------------------------------------------------------------------------\n",
            "You are a particle physics expert. Your task is to classify whether a jet is initiated by a quark (label: 1) or a gluon (label: 0).\n",
            "\n",
            "A jet consists of particles, each with the following properties:\n",
            "- pt: transverse momentum (GeV)\n",
            "- y: rapidity\n",
            "- phi: azimuthal angle (radians)\n",
            "- pid: particle ID\n",
            "\n",
            "Here is the jet data:\n",
            "Particle 1: pt=0.269 GeV, y=0.357, phi=4.741, pid=22\n",
            "Particle 2: pt=0.160 GeV, y=-0.256, phi=4.550, pid=22\n",
            "Particle 3: pt=1.149 GeV, y=-0.062, phi=4.504, pid=-211\n",
            "Particle 4: pt=4.132 GeV, y=0.174, phi=4.766, pid=-321\n",
            "Particle 5: pt=1.696 GeV, y=-0.212, phi=4.797, pid=-211\n",
            "Particle 6: pt=2.194 GeV, y=-0.052, phi=4.576, pid=22\n",
            "Particle 7: pt=1.619 GeV, y=-0.068, phi=4.646, pid=22\n",
            "Particle 8: pt=6.592 GeV, y=0.044, phi=4.766, pid=211\n",
            "Particle 9: pt=3.771 GeV, y=0.042, phi=4.755, pid=321\n",
            "Particle 10: pt=13.482 GeV, y=-0.028, phi=4.735, pid=-211\n",
            "Particle 11: pt=4.108 GeV, y=-0.024, phi=4.759, pid=22\n",
            "Particle 12: pt=21.646 GeV, y=-0.027, phi=4.760, pid=22\n",
            "Particle 13: pt=6.776 GeV, y=-0.030, phi=4.761, pid=22\n",
            "Particle 14: pt=13.255 GeV, y=-0.039, phi=4.749, pid=22\n",
            "Particle 15: pt=2.984 GeV, y=-0.037, phi=4.746, pid=22\n",
            "Particle 16: pt=37.374 GeV, y=-0.035, phi=4.755, pid=22\n",
            "Particle 17: pt=335.399 GeV, y=-0.033, phi=4.751, pid=22\n",
            "Particle 18: pt=44.214 GeV, y=-0.033, phi=4.754, pid=22\n",
            "\n",
            "Based on the particle content and kinematics, is this a quark jet (1) or gluon jet (0)?\n",
            "\n",
            "Respond with ONLY the number 0 or 1, nothing else.\n",
            "================================================================================\n",
            "\n",
            "Prompt length: 1453 characters\n"
          ]
        }
      ],
      "source": [
        "# Raw particles template\n",
        "print(\"=\"*80)\n",
        "print(\"RAW PARTICLES TEMPLATE\")\n",
        "print(\"=\"*80)\n",
        "\n",
        "clf_raw = LLMClassifier(\n",
        "    template_name='simple_list',\n",
        "    templates_dir='../templates',\n",
        "    feature_extractor='none',\n",
        ")\n",
        "clf_raw.fit([], [])\n",
        "prompt_raw = clf_raw.preview_prompt(sample_jet)\n",
        "\n",
        "print(f\"\\nPrompt length: {len(prompt_raw)} characters\")\n"
      ]
    },
    {
      "cell_type": "code",
      "execution_count": 5,
      "metadata": {},
      "outputs": [
        {
          "name": "stdout",
          "output_type": "stream",
          "text": [
            "================================================================================\n",
            "FEATURE-BASED TEMPLATE (Auto-detected extractor)\n",
            "================================================================================\n",
            "================================================================================\n",
            "PROMPT PREVIEW\n",
            "================================================================================\n",
            "Model: gemini-2.5-flash-lite-preview-09-2025\n",
            "Template: features_kinematic\n",
            "Format: list\n",
            "Feature Extractor: FullExtractor\n",
            "Max output tokens: 1000\n",
            "Thinking budget: None\n",
            "\n",
            "--------------------------------------------------------------------------------\n",
            "PROMPT:\n",
            "--------------------------------------------------------------------------------\n",
            "You are a particle physics expert. Your task is to classify whether a jet is initiated by a quark (label: 1) or a gluon (label: 0).\n",
            "\n",
            "**Key Physics Insights:**\n",
            "Gluons and quarks have different radiation patterns due to QCD color factors:\n",
            "1. **Higher multiplicity** → Gluon (more particles radiated)\n",
            "2. **Lower mean pT** → Gluon (softer fragmentation)\n",
            "3. **Higher mean pT** → Quark (harder fragmentation)\n",
            "\n",
            "**Typical Patterns:**\n",
            "- Quark jets: ~33 particles, mean pT ~15.7 GeV\n",
            "- Gluon jets: ~53 particles, mean pT ~9.8 GeV\n",
            "\n",
            "Here is the jet you need to classify:\n",
            "\n",
            "Jet Features:\n",
            "  Multiplicity: 18 particles\n",
            "  Mean pT: 27.82 GeV\n",
            "  pT Std Dev: 75.61 GeV\n",
            "  Median pT: 4.12 GeV\n",
            "  Max pT: 335.40 GeV\n",
            "  Leading pT Fraction: 0.670\n",
            "  Top-3 pT Fraction: 0.833\n",
            "  Top-5 pT Fraction: 0.903\n",
            "\n",
            "**Classification Guidelines:**\n",
            "- High multiplicity (> 38) + Low mean pT (< 12 GeV) → Strong gluon signal\n",
            "- Low multiplicity (≤ 38) + High mean pT (> 12 GeV) → Strong quark signal\n",
            "- Consider both features together for best accuracy\n",
            "\n",
            "Based on these kinematic features, is this a quark jet (1) or gluon jet (0)?\n",
            "\n",
            "Respond with ONLY the number 0 or 1, nothing else.\n",
            "\n",
            "================================================================================\n",
            "\n",
            "Prompt length: 1135 characters\n",
            "Reduction: 318 characters (21.9% shorter)\n"
          ]
        }
      ],
      "source": [
        "# Feature-based template\n",
        "print(\"=\"*80)\n",
        "print(\"FEATURE-BASED TEMPLATE (Auto-detected extractor)\")\n",
        "print(\"=\"*80)\n",
        "\n",
        "clf_features = LLMClassifier(\n",
        "    template_name='features_kinematic',\n",
        "    templates_dir='../templates',\n",
        "    # Auto-detects KinematicExtractor\n",
        ")\n",
        "clf_features.fit([], [])\n",
        "prompt_features = clf_features.preview_prompt(sample_jet)\n",
        "\n",
        "print(f\"\\nPrompt length: {len(prompt_features)} characters\")\n",
        "print(f\"Reduction: {len(prompt_raw) - len(prompt_features)} characters ({(1 - len(prompt_features)/len(prompt_raw))*100:.1f}% shorter)\")\n"
      ]
    },
    {
      "cell_type": "markdown",
      "metadata": {},
      "source": [
        "## 3. Test Classification (10 jets)\n",
        "\n",
        "**Warning:** This makes real API calls. Budget: ~10 jets × 5 templates = 50 API calls.\n",
        "\n",
        "Testing strategy:\n",
        "1. Raw particles only (baseline)\n",
        "2. Features only (token efficient)\n",
        "3. Hybrid (features + particles) - test if raw data adds value\n"
      ]
    },
    {
      "cell_type": "code",
      "execution_count": null,
      "metadata": {},
      "outputs": [
        {
          "name": "stdout",
          "output_type": "stream",
          "text": [
            "\n",
            "Testing: Raw Particles\n",
            "------------------------------------------------------------\n"
          ]
        },
        {
          "name": "stderr",
          "output_type": "stream",
          "text": [
            "100%|██████████| 10/10 [00:26<00:00,  2.66s/it]\n"
          ]
        },
        {
          "name": "stdout",
          "output_type": "stream",
          "text": [
            "  Accuracy: 0.300, AUC: 0.611, Cost: $0.0037\n",
            "\n",
            "Testing: Features: Basic\n",
            "------------------------------------------------------------\n"
          ]
        },
        {
          "name": "stderr",
          "output_type": "stream",
          "text": [
            "100%|██████████| 10/10 [00:07<00:00,  1.27it/s]\n"
          ]
        },
        {
          "name": "stdout",
          "output_type": "stream",
          "text": [
            "  Accuracy: 0.900, AUC: 0.944, Cost: $0.0009\n",
            "\n",
            "Testing: Features: Kinematic\n",
            "------------------------------------------------------------\n"
          ]
        },
        {
          "name": "stderr",
          "output_type": "stream",
          "text": [
            "100%|██████████| 10/10 [00:10<00:00,  1.03s/it]"
          ]
        },
        {
          "name": "stdout",
          "output_type": "stream",
          "text": [
            "  Accuracy: 0.900, AUC: 0.944, Cost: $0.0013\n"
          ]
        },
        {
          "name": "stderr",
          "output_type": "stream",
          "text": [
            "\n"
          ]
        }
      ],
      "source": [
        "configs = [\n",
        "    ('Raw Particles', 'simple_list', 'none'),\n",
        "    ('Features: Basic', 'features_basic', None),  # Auto-detect\n",
        "    ('Features: Kinematic', 'features_kinematic', None),  # Auto-detect\n",
        "    ('Hybrid: Basic', 'hybrid_basic', None),  # Auto-detect\n",
        "    ('Hybrid: Kinematic', 'hybrid_kinematic', None),  # Auto-detect\n",
        "]\n",
        "\n",
        "results = {}\n",
        "\n",
        "for name, template, extractor in configs:\n",
        "    print(f\"\\nTesting: {name}\")\n",
        "    print(\"-\"*60)\n",
        "    \n",
        "    clf = LLMClassifier(\n",
        "        template_name=template,\n",
        "        templates_dir='../templates',\n",
        "        feature_extractor=extractor,\n",
        "        thinking_budget=1000,\n",
        "        max_tokens=2000,\n",
        "    )\n",
        "    \n",
        "    clf.fit([], [])\n",
        "    predictions = clf.predict(X_test)\n",
        "    \n",
        "    acc = accuracy_score(y_test, predictions)\n",
        "    auc = roc_auc_score(y_test, predictions)\n",
        "    \n",
        "    results[name] = {\n",
        "        'accuracy': acc,\n",
        "        'auc': auc,\n",
        "        'cost': clf.total_cost,\n",
        "    }\n",
        "    \n",
        "    print(f\"  Accuracy: {acc:.3f}, AUC: {auc:.3f}, Cost: ${clf.total_cost:.4f}\")\n"
      ]
    },
    {
      "cell_type": "code",
      "execution_count": null,
      "metadata": {},
      "outputs": [
        {
          "name": "stdout",
          "output_type": "stream",
          "text": [
            "\n",
            "======================================================================\n",
            "SUMMARY\n",
            "======================================================================\n",
            "Raw Particles            : Acc=0.300, AUC=0.611, Cost=$0.0037\n",
            "Features: Basic          : Acc=0.900, AUC=0.944, Cost=$0.0009\n",
            "Features: Kinematic      : Acc=0.900, AUC=0.944, Cost=$0.0013\n"
          ]
        },
        {
          "data": {
            "image/png": "[encoded data removed]",
            "text/plain": [
              "<Figure size 1200x400 with 2 Axes>"
            ]
          },
          "metadata": {},
          "output_type": "display_data"
        },
        {
          "name": "stdout",
          "output_type": "stream",
          "text": [
            "\n",
            "✓ Feature extraction demo complete!\n"
          ]
        }
      ],
      "source": [
        "# Summary\n",
        "import matplotlib.pyplot as plt\n",
        "\n",
        "print(\"\\n\" + \"=\"*70)\n",
        "print(\"SUMMARY\")\n",
        "print(\"=\"*70)\n",
        "for name, res in results.items():\n",
        "    print(f\"{name:25s}: Acc={res['accuracy']:.3f}, AUC={res['auc']:.3f}, Cost=${res['cost']:.4f}\")\n",
        "\n",
        "# Plot\n",
        "fig, ax = plt.subplots(1, 2, figsize=(12, 4))\n",
        "\n",
        "names = list(results.keys())\n",
        "accs = [results[n]['accuracy'] for n in names]\n",
        "aucs = [results[n]['auc'] for n in names]\n",
        "\n",
        "colors = ['steelblue', 'coral', 'gold', 'mediumseagreen', 'orchid']\n",
        "\n",
        "ax[0].bar(names, accs, color=colors[:len(names)])\n",
        "ax[0].set_ylabel('Accuracy')\n",
        "ax[0].set_title('Accuracy Comparison')\n",
        "ax[0].set_ylim([0, 1])\n",
        "plt.setp(ax[0].xaxis.get_majorticklabels(), rotation=30, ha='right')\n",
        "\n",
        "ax[1].bar(names, aucs, color=colors[:len(names)])\n",
        "ax[1].set_ylabel('AUC')\n",
        "ax[1].set_title('AUC Comparison')\n",
        "ax[1].set_ylim([0, 1])\n",
        "plt.setp(ax[1].xaxis.get_majorticklabels(), rotation=30, ha='right')\n",
        "\n",
        "plt.tight_layout()\n",
        "plt.show()\n",
        "\n",
        "print(\"\\n✓ Feature extraction demo complete!\")\n"
      ]
    },
    {
      "cell_type": "code",
      "execution_count": null,
      "metadata": {},
      "outputs": [],
      "source": []
    }
  ],
  "metadata": {
    "kernelspec": {
      "display_name": ".venv",
      "language": "python",
      "name": "python3"
    },
    "language_info": {
      "codemirror_mode": {
        "name": "ipython",
        "version": 3
      },
      "file_extension": ".py",
      "mimetype": "text/x-python",
      "name": "python",
      "nbconvert_exporter": "python",
      "pygments_lexer": "ipython3",
      "version": "3.13.2"
    }
  },
  "nbformat": 4,
  "nbformat_minor": 2
}
