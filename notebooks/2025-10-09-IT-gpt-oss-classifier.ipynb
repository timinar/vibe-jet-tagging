{
 "cells": [
  {
   "cell_type": "markdown",
   "id": "b88ff677",
   "metadata": {},
   "source": [
    "# Local LLM Classifier Test\n",
    "\n",
    "Test the LocalLLMClassifier on quark/gluon jet data using local OpenAI-compatible API.\n",
    "\n",
    "This notebook demonstrates:\n",
    "- Zero-shot jet classification with GPT-OSS-120B (or any reasoning model)\n",
    "- Reasoning effort control (low, medium, high)\n",
    "- Async vs sequential processing comparison\n",
    "- Token usage tracking (local server, no cost)"
   ]
  },
  {
   "cell_type": "code",
   "execution_count": 16,
   "id": "42728186",
   "metadata": {},
   "outputs": [
    {
     "name": "stdout",
     "output_type": "stream",
     "text": [
      "The autoreload extension is already loaded. To reload it, use:\n",
      "  %reload_ext autoreload\n"
     ]
    }
   ],
   "source": [
    "%load_ext autoreload\n",
    "%autoreload 2\n",
    "\n",
    "import sys\n",
    "import os\n",
    "import time\n",
    "import numpy as np\n",
    "from pathlib import Path\n",
    "\n",
    "# Add src to path\n",
    "sys.path.insert(0, str(Path.cwd().parent / 'src'))\n",
    "\n",
    "from vibe_jet_tagging.local_llm_classifier import LocalLLMClassifier\n",
    "from sklearn.metrics import roc_auc_score, accuracy_score, confusion_matrix"
   ]
  },
  {
   "cell_type": "markdown",
   "id": "94b378cc",
   "metadata": {},
   "source": [
    "## Check Local Server\n",
    "\n",
    "Make sure your local LLM server is running.\n",
    "\n",
    "Example with vLLM:\n",
    "```bash\n",
    "vllm serve openai/gpt-oss-120b --port 8000\n",
    "```"
   ]
  },
  {
   "cell_type": "code",
   "execution_count": 17,
   "id": "0af8ef85",
   "metadata": {},
   "outputs": [
    {
     "name": "stdout",
     "output_type": "stream",
     "text": [
      "✅ Local LLM server is running\n",
      "Available models: ['openai/gpt-oss-120b']\n"
     ]
    }
   ],
   "source": [
    "import requests\n",
    "\n",
    "# Check if server is running\n",
    "try:\n",
    "    response = requests.get(\"http://localhost:8000/v1/models\")\n",
    "    if response.status_code == 200:\n",
    "        models = response.json()\n",
    "        print(\"✅ Local LLM server is running\")\n",
    "        print(f\"Available models: {[m['id'] for m in models['data']]}\")\n",
    "    else:\n",
    "        print(\"⚠️  Server responded but with error\")\n",
    "except Exception as e:\n",
    "    print(\"❌ Local LLM server not reachable\")\n",
    "    print(f\"Error: {e}\")\n",
    "    print(\"\\nStart the server with: vllm serve openai/gpt-oss-120b --port 8000\")"
   ]
  },
  {
   "cell_type": "markdown",
   "id": "2dbfd862",
   "metadata": {},
   "source": [
    "## Load Data\n",
    "\n",
    "Load the quark/gluon jet dataset."
   ]
  },
  {
   "cell_type": "code",
   "execution_count": 18,
   "id": "030da700",
   "metadata": {},
   "outputs": [
    {
     "name": "stdout",
     "output_type": "stream",
     "text": [
      "Loaded 100000 jets\n",
      "X shape: (100000, 139, 4)\n",
      "y shape: (100000,)\n",
      "Quark jets: 50000\n",
      "Gluon jets: 50000\n"
     ]
    }
   ],
   "source": [
    "# Load data\n",
    "data_path = Path.cwd().parent / 'data' / 'qg_jets.npz'\n",
    "data = np.load(data_path)\n",
    "\n",
    "X = data['X']\n",
    "y = data['y']\n",
    "\n",
    "print(f\"Loaded {len(X)} jets\")\n",
    "print(f\"X shape: {X.shape}\")\n",
    "print(f\"y shape: {y.shape}\")\n",
    "print(f\"Quark jets: {(y == 1).sum()}\")\n",
    "print(f\"Gluon jets: {(y == 0).sum()}\")"
   ]
  },
  {
   "cell_type": "markdown",
   "id": "e6809122",
   "metadata": {},
   "source": [
    "## Initialize LocalLLMClassifier\n",
    "\n",
    "Set up the classifier with local OpenAI-compatible API.\n",
    "\n",
    "**Configuration:**\n",
    "- `model_name`: The model identifier (must match server)\n",
    "- `reasoning_effort`: Controls reasoning depth (\"low\", \"medium\", \"high\")\n",
    "- `base_url`: URL of your local server\n",
    "- `api_key`: \"EMPTY\" for local servers without auth"
   ]
  },
  {
   "cell_type": "code",
   "execution_count": 19,
   "id": "6e99a3b7",
   "metadata": {},
   "outputs": [
    {
     "name": "stdout",
     "output_type": "stream",
     "text": [
      "Classifier initialized\n",
      "Model: openai/gpt-oss-120b\n",
      "Template: simple_list\n",
      "Format: list\n",
      "Reasoning effort: medium\n"
     ]
    }
   ],
   "source": [
    "# Initialize classifier with local API\n",
    "clf = LocalLLMClassifier(\n",
    "    model_name=\"openai/gpt-oss-120b\",\n",
    "    template_name=\"simple_list\",\n",
    "    format_type=\"list\",\n",
    "    templates_dir=str(Path.cwd().parent / 'templates'),\n",
    "    reasoning_effort=\"medium\",   # Options: \"low\", \"medium\", \"high\"\n",
    "    reasoning_summary=\"auto\",    # Options: \"auto\", \"concise\", \"detailed\"\n",
    "    base_url=\"http://localhost:8000/v1\",\n",
    "    api_key=\"EMPTY\"\n",
    ")\n",
    "\n",
    "# Fit (no-op for zero-shot)\n",
    "clf.fit([], [])\n",
    "\n",
    "print(\"Classifier initialized\")\n",
    "print(f\"Model: {clf.model_name}\")\n",
    "print(f\"Template: {clf.template_name}\")\n",
    "print(f\"Format: {clf.format_type}\")\n",
    "print(f\"Reasoning effort: {clf.reasoning_effort}\")"
   ]
  },
  {
   "cell_type": "markdown",
   "id": "46e563b1",
   "metadata": {},
   "source": [
    "## Test Single Jet Prediction"
   ]
  },
  {
   "cell_type": "code",
   "execution_count": 20,
   "id": "4a78d4ee",
   "metadata": {},
   "outputs": [
    {
     "name": "stdout",
     "output_type": "stream",
     "text": [
      "True label: 1.0 (quark)\n",
      "\n",
      "Jet shape: (139, 4)\n",
      "Number of particles (pt > 0): 18\n",
      "\n",
      "🔧 API PARAMETERS\n",
      "Model: openai/gpt-oss-120b\n",
      "Reasoning effort: medium\n",
      "Reasoning summary: auto\n",
      "\n",
      "\n",
      "────────────────────────────────────────────────────────────\n",
      "📊 TOKEN USAGE\n",
      "────────────────────────────────────────────────────────────\n",
      "Input tokens:        695\n",
      "Output tokens:       433\n",
      "  ├─ Reasoning (est): 216\n",
      "  └─ Completion:      217\n",
      "Total tokens:        1,128\n",
      "\n",
      "💰 COST\n",
      "Input cost:          $0.000052\n",
      "Output cost:         $0.000130\n",
      "Call cost:           $0.000182\n",
      "\n",
      "🧠 REASONING TRACE\n",
      "────────────────────────────────────────────────────────────\n",
      "We need to decide if the jet is quark-initiated or gluon-initiated based on given particles. Typically quark jets have fewer particles, harder fragmentation, larger leading particle carrying large fraction of jet pT, lower multiplicity, fewer soft particles. Gluon jets have higher multiplicity, soft...\n",
      "[... 1464 more characters ...]\n",
      "────────────────────────────────────────────────────────────\n",
      "\n",
      "✨ FINAL OUTPUT\n",
      "────────────────────────────────────────────────────────────\n",
      "We need to decide if the jet is quark-initiated or gluon-initiated based on given particles. Typically quark jets have fewer particles, harder fragmentation, larger leading particle carrying large fraction of jet pT, lower multiplicity, fewer soft particles. Gluon jets have higher multiplicity, softer fragmentation, broader.\n",
      "\n",
      "Here we have a jet with many particles, many photons (pid=22) and some charged pions/kaons. The leading particle is huge: pid=22 with pt 335 GeV. That's huge relative to rest. That suggests a very hard leading photon? Actually pid=22 is photon. In QCD jets, photons are rare (from pi0 decays etc). But many photons: many of them are from neutral pion decays.\n",
      "\n",
      "Nevertheless, the presence of many low-pt particles as well as a very high-pt photon.\n",
      "\n",
      "Multiplicity: 18 particles, with a wide range. The total jet pt roughly sum maybe ~? Leading is 335 GeV, plus 44, 37, 21, 13, 13, 6, etc sum maybe ~500 GeV. That's big.\n",
      "\n",
      "Gluon jets have larger multiplicity for same energy compared to quark jets. Here 18 particles for such high energy maybe moderate multiplicity. However many are photons, which could be from pi0 decays; multiplicity may be high.\n",
      "\n",
      "But quark jets often have leading hadron carrying large fraction (~ 0.6) of jet momentum. Here leading photon 335/ ~500 ~ 0.67, high. However quark jets would have leading hadron (charged) not photon. Photons from pi0 decays appear in both.\n",
      "\n",
      "Given the presence of jets heavily dominated by photons maybe indicates an electromagnetic shower, maybe from a quark? Actually a quark can radiate a photon via QED but not dominant.\n",
      "\n",
      "In classification tasks typical features: g-jet higher particle multiplicity, broader, softer.\n",
      "\n",
      "But we have a high leading fraction -> likely quark.\n",
      "\n",
      "Thus answer 1. 1\n",
      "────────────────────────────────────────────────────────────\n",
      "\n",
      "\n",
      "════════════════════════════════════════════════════════════\n",
      "📈 CUMULATIVE STATISTICS\n",
      "════════════════════════════════════════════════════════════\n",
      "Total prompt tokens:     695\n",
      "Total completion tokens: 217\n",
      "Total reasoning tokens:  216\n",
      "Total tokens:            1,128\n",
      "\n",
      "💰 Total estimated cost: $0.000182\n",
      "════════════════════════════════════════════════════════════\n",
      "\n",
      "\n",
      "Predicted label: 1 (quark)\n",
      "Correct: True\n"
     ]
    }
   ],
   "source": [
    "# Test on a single jet\n",
    "test_jet = X[0]\n",
    "true_label = y[0]\n",
    "\n",
    "print(f\"True label: {true_label} ({'quark' if true_label == 1 else 'gluon'})\")\n",
    "print(f\"\\nJet shape: {test_jet.shape}\")\n",
    "print(f\"Number of particles (pt > 0): {(test_jet[:, 0] > 0).sum()}\")\n",
    "\n",
    "# Make prediction (sequential mode for single jet)\n",
    "prediction = clf.predict([test_jet], verbose=True, use_async=False)[0]\n",
    "print(f\"\\nPredicted label: {prediction} ({'quark' if prediction == 1 else 'gluon'})\")\n",
    "print(f\"Correct: {prediction == true_label}\")"
   ]
  },
  {
   "cell_type": "code",
   "execution_count": 21,
   "id": "bebec17d",
   "metadata": {},
   "outputs": [
    {
     "name": "stdout",
     "output_type": "stream",
     "text": [
      "================================================================================\n",
      "PROMPT PREVIEW\n",
      "================================================================================\n",
      "Model: openai/gpt-oss-120b\n",
      "Template: simple_list\n",
      "Format: list\n",
      "Reasoning effort: medium\n",
      "Reasoning summary: auto\n",
      "\n",
      "--------------------------------------------------------------------------------\n",
      "PROMPT:\n",
      "--------------------------------------------------------------------------------\n",
      "You are a particle physics expert. Your task is to classify whether a jet is initiated by a quark (label: 1) or a gluon (label: 0).\n",
      "\n",
      "A jet consists of particles, each with the following properties:\n",
      "- pt: transverse momentum (GeV)\n",
      "- y: rapidity\n",
      "- phi: azimuthal angle (radians)\n",
      "- pid: particle ID\n",
      "\n",
      "Here is the jet data:\n",
      "Particle 1: pt=0.269 GeV, y=0.357, phi=4.741, pid=22\n",
      "Particle 2: pt=0.160 GeV, y=-0.256, phi=4.550, pid=22\n",
      "Particle 3: pt=1.149 GeV, y=-0.062, phi=4.504, pid=-211\n",
      "Particle 4: pt=4.132 GeV, y=0.174, phi=4.766, pid=-321\n",
      "Particle 5: pt=1.696 GeV, y=-0.212, phi=4.797, pid=-211\n",
      "Particle 6: pt=2.194 GeV, y=-0.052, phi=4.576, pid=22\n",
      "Particle 7: pt=1.619 GeV, y=-0.068, phi=4.646, pid=22\n",
      "Particle 8: pt=6.592 GeV, y=0.044, phi=4.766, pid=211\n",
      "Particle 9: pt=3.771 GeV, y=0.042, phi=4.755, pid=321\n",
      "Particle 10: pt=13.482 GeV, y=-0.028, phi=4.735, pid=-211\n",
      "Particle 11: pt=4.108 GeV, y=-0.024, phi=4.759, pid=22\n",
      "Particle 12: pt=21.646 GeV, y=-0.027, phi=4.760, pid=22\n",
      "Particle 13: pt=6.776 GeV, y=-0.030, phi=4.761, pid=22\n",
      "Particle 14: pt=13.255 GeV, y=-0.039, phi=4.749, pid=22\n",
      "Particle 15: pt=2.984 GeV, y=-0.037, phi=4.746, pid=22\n",
      "Particle 16: pt=37.374 GeV, y=-0.035, phi=4.755, pid=22\n",
      "Particle 17: pt=335.399 GeV, y=-0.033, phi=4.751, pid=22\n",
      "Particle 18: pt=44.214 GeV, y=-0.033, phi=4.754, pid=22\n",
      "\n",
      "Based on the particle content and kinematics, is this a quark jet (1) or gluon jet (0)?\n",
      "\n",
      "Respond with ONLY the number 0 or 1, nothing else.\n",
      "================================================================================\n"
     ]
    }
   ],
   "source": [
    "# Preview the prompt\n",
    "clf.preview_prompt(test_jet)"
   ]
  },
  {
   "cell_type": "markdown",
   "id": "9fbc085d",
   "metadata": {},
   "source": [
    "## Reasoning Effort Control\n",
    "\n",
    "Test how different reasoning effort levels affect performance and token usage.\n",
    "\n",
    "For reasoning models:\n",
    "- **low**: Fast reasoning with minimal depth (~1,250 tokens)\n",
    "- **medium**: Balanced reasoning (~1,760 tokens)\n",
    "- **high**: Deep reasoning with maximum effort (~7,540 tokens)"
   ]
  },
  {
   "cell_type": "code",
   "execution_count": 22,
   "id": "1c074575",
   "metadata": {},
   "outputs": [
    {
     "name": "stdout",
     "output_type": "stream",
     "text": [
      "\n",
      "============================================================\n",
      "Testing with reasoning_effort=low\n",
      "============================================================\n",
      "\n",
      "🔧 API PARAMETERS\n",
      "Model: openai/gpt-oss-120b\n",
      "Reasoning effort: low\n",
      "Reasoning summary: auto\n",
      "\n",
      "\n",
      "────────────────────────────────────────────────────────────\n",
      "📊 TOKEN USAGE\n",
      "────────────────────────────────────────────────────────────\n",
      "Input tokens:        695\n",
      "Output tokens:       123\n",
      "  ├─ Reasoning (est): 61\n",
      "  └─ Completion:      62\n",
      "Total tokens:        818\n",
      "\n",
      "💰 COST\n",
      "Input cost:          $0.000052\n",
      "Output cost:         $0.000037\n",
      "Call cost:           $0.000089\n",
      "\n",
      "🧠 REASONING TRACE\n",
      "────────────────────────────────────────────────────────────\n",
      "We guess: many photons, high multiplicity, likely gluon? Gluon jets have more particles, softer. This has many high-pt photons, seems EM. Could be quark radiating photons? Hard to say. Probably gluon jet has higher multiplicity relative to pt. Here leading pt 335 GeV photon? Actually particle 17 is ...\n",
      "[... 152 more characters ...]\n",
      "────────────────────────────────────────────────────────────\n",
      "\n",
      "✨ FINAL OUTPUT\n",
      "────────────────────────────────────────────────────────────\n",
      "We guess: many photons, high multiplicity, likely gluon? Gluon jets have more particles, softer. This has many high-pt photons, seems EM. Could be quark radiating photons? Hard to say. Probably gluon jet has higher multiplicity relative to pt. Here leading pt 335 GeV photon? Actually particle 17 is photon 335 GeV. jet dominated by photons -> maybe quark (since q -> qγ?). But many photons suggests gluon splitting to photons? I'd guess gluon jet = 0. 0\n",
      "────────────────────────────────────────────────────────────\n",
      "\n",
      "\n",
      "════════════════════════════════════════════════════════════\n",
      "📈 CUMULATIVE STATISTICS\n",
      "════════════════════════════════════════════════════════════\n",
      "Total prompt tokens:     695\n",
      "Total completion tokens: 62\n",
      "Total reasoning tokens:  61\n",
      "Total tokens:            818\n",
      "\n",
      "💰 Total estimated cost: $0.000089\n",
      "════════════════════════════════════════════════════════════\n",
      "\n",
      "\n",
      "============================================================\n",
      "Testing with reasoning_effort=medium\n",
      "============================================================\n",
      "\n",
      "🔧 API PARAMETERS\n",
      "Model: openai/gpt-oss-120b\n",
      "Reasoning effort: medium\n",
      "Reasoning summary: auto\n",
      "\n",
      "\n",
      "────────────────────────────────────────────────────────────\n",
      "📊 TOKEN USAGE\n",
      "────────────────────────────────────────────────────────────\n",
      "Input tokens:        695\n",
      "Output tokens:       371\n",
      "  ├─ Reasoning (est): 185\n",
      "  └─ Completion:      186\n",
      "Total tokens:        1,066\n",
      "\n",
      "💰 COST\n",
      "Input cost:          $0.000052\n",
      "Output cost:         $0.000111\n",
      "Call cost:           $0.000163\n",
      "\n",
      "🧠 REASONING TRACE\n",
      "────────────────────────────────────────────────────────────\n",
      "We need to decide if jet is quark-initiated or gluon-initiated based on particle content: many photons (pid=22) appear, plus some pions/kaons. High multiplicity? Quark jets tend to have fewer particles, less radiation, narrower, fewer soft particles. Gluon jets have higher multiplicity, softer fragm...\n",
      "[... 1158 more characters ...]\n",
      "────────────────────────────────────────────────────────────\n",
      "\n",
      "✨ FINAL OUTPUT\n",
      "────────────────────────────────────────────────────────────\n",
      "We need to decide if jet is quark-initiated or gluon-initiated based on particle content: many photons (pid=22) appear, plus some pions/kaons. High multiplicity? Quark jets tend to have fewer particles, less radiation, narrower, fewer soft particles. Gluon jets have higher multiplicity, softer fragments, more particles, wider. Here we see many particles (18), many photons (lots of 22). The leading particle is a photon with 335 GeV? Actually particle 17 is pt 335 GeV, photon. That is huge. That suggests the jet is electromagnetic? But in QCD jets photons can appear from pi0 decays etc. Many photons could indicate high electromagnetic fraction, maybe gluon jet though? However noting that largest pt is a photon, and many particles are photons. This may be a photon-initiated jet (maybe a jet from a quark radiating photon). But classification tasks: typical approach: gluon jets have higher particle multiplicity and softer spectrum; quark jets have higher leading particle fraction (hard core). Here we have one very high-pt constituent (335 GeV) which is a huge fraction of total? Let's sum total pt approx: other high pts: 44, 37, 21, 13,13, 6.7,6.5,4.13,4.1,... sum maybe around 500 GeV. The leading photon is ~70% of total. That indicates quark jet (hard core). Also quark jets have higher charged particle fraction; here many photons, but also some charged hadrons (pions, kaons). But still high leading pt suggests quark-initiated. So answer 1. 1\n",
      "────────────────────────────────────────────────────────────\n",
      "\n",
      "\n",
      "════════════════════════════════════════════════════════════\n",
      "📈 CUMULATIVE STATISTICS\n",
      "════════════════════════════════════════════════════════════\n",
      "Total prompt tokens:     695\n",
      "Total completion tokens: 186\n",
      "Total reasoning tokens:  185\n",
      "Total tokens:            1,066\n",
      "\n",
      "💰 Total estimated cost: $0.000163\n",
      "════════════════════════════════════════════════════════════\n",
      "\n",
      "\n",
      "============================================================\n",
      "Testing with reasoning_effort=high\n",
      "============================================================\n",
      "\n",
      "🔧 API PARAMETERS\n",
      "Model: openai/gpt-oss-120b\n",
      "Reasoning effort: high\n",
      "Reasoning summary: auto\n",
      "\n",
      "\n",
      "────────────────────────────────────────────────────────────\n",
      "📊 TOKEN USAGE\n",
      "────────────────────────────────────────────────────────────\n",
      "Input tokens:        695\n",
      "Output tokens:       2,079\n",
      "  ├─ Reasoning (est): 1,039\n",
      "  └─ Completion:      1,040\n",
      "Total tokens:        2,774\n",
      "\n",
      "💰 COST\n",
      "Input cost:          $0.000052\n",
      "Output cost:         $0.000624\n",
      "Call cost:           $0.000676\n",
      "\n",
      "🧠 REASONING TRACE\n",
      "────────────────────────────────────────────────────────────\n",
      "We need to infer from the given jet's particle composition. The problem is basically a classification problem: given a jet consisting of many particles (given pt, rapidity, phi, pid) we need to decide if it's a quark jet (label 1) or a gluon jet (label 0), based on \"particle content and kinematics\"....\n",
      "[... 7646 more characters ...]\n",
      "────────────────────────────────────────────────────────────\n",
      "\n",
      "✨ FINAL OUTPUT\n",
      "────────────────────────────────────────────────────────────\n",
      "We need to infer from the given jet's particle composition. The problem is basically a classification problem: given a jet consisting of many particles (given pt, rapidity, phi, pid) we need to decide if it's a quark jet (label 1) or a gluon jet (label 0), based on \"particle content and kinematics\". The list shows many photons (pid=22) making up the jet, a few pions and kaons: -211 (pi-), 211 (pi+), -321 (K- perhaps), 321 (K+) etc. The highest pt particle is pid=22 (photon) with pt=335.399 GeV, plus another high pt photon at 44.214 GeV, 37.374 GeV etc. So the jet appears to be mostly electromagnetic (photons). But jets generally are hadronic; only neutral ones can produce photons via decay (e.g., pi0→γγ). A photon-dominated jet maybe from a high-energy quark that radiated a photon? Or might be a \"photon jet\"? But the classification probably uses general patterns: quark jets tend to have fewer particles and a harder fragmentation (higher average pt per constituent) leading to fewer soft particles, larger leading particle fraction. Gluon jets have higher multiplicity and softer fragmentation (more low-pt particles). In this jet, there are many particles: 18 particles listed. The leading pt is 335 GeV, which dominates the jet. The total pt sum likely ~500+ GeV? Let's sum approximate. Let's sum all pt: 0.269+0.160+1.149+4.132+1.696+2.194+1.619+6.592+3.771+13.482+4.108+21.646+6.776+13.255+2.984+37.374+335.399+44.214 = Compute. Let's do sum stepwise.\n",
      "\n",
      "- 0.269 + 0.160 = 0.429\n",
      "- +1.149 = 1.578\n",
      "- +4.132 = 5.710\n",
      "- +1.696 = 7.406\n",
      "- +2.194 = 9.600\n",
      "- +1.619 = 11.219\n",
      "- +6.592 = 17.811\n",
      "- +3.771 = 21.582\n",
      "- +13.482 = 35.064\n",
      "- +4.108 = 39.172\n",
      "- +21.646 = 60.818\n",
      "- +6.776 = 67.594\n",
      "- +13.255 = 80.849\n",
      "- +2.984 = 83.833\n",
      "- +37.374 = 121.207\n",
      "- +335.399 = 456.606\n",
      "- +44.214 = 500.820\n",
      "\n",
      "Total pt ~500.8 GeV.\n",
      "\n",
      "The highest pt particle (335.4) is ~67% of total. That's a high fragmentation fraction typical of quark jets. The second highest is 44.2 GeV (~8.8%). Additional high ones: 37.374 GeV (~7.5%). So about 83% of total is in top three particles.\n",
      "\n",
      "Hence the jet seems to be a relatively \"hard\" fragmentation: dominated by a leading particle, fewer soft fragments. That suggests quark jet.\n",
      "\n",
      "Moreover, the PID composition: many photons. Photons can be from pi0 decays or from high-energy QED radiation from quarks (like final state radiation). A quark could radiate a photon. But gluon jets also produce many neutral hadrons and can produce photons via pi0. But the multiplicity of 18 is moderate but perhaps low for ~500 GeV jet. Usually, gluon jets have roughly C_A / C_F = 9/4 times higher multiplicity than quark jets at same energy (maybe ~2.25 times). So for a 500 GeV jet, maybe quark jets have ~10-20 constituents, gluon jets ~20-30. This case of 18 constituents is moderate. The high fraction in leading photon might tilt towards quark.\n",
      "\n",
      "But also the pid=22 for the highest p_T is unusual: a photon with 335 GeV. In typical jets you rarely see a photon as the biggest constituent; that could be a \"photon jet\" but maybe it's a result of a collimated photon pair from pi0 decays being identified as a single photon. But anyway the classification likely sees this as \"quark-like\" due to low multiplicity and high hardness.\n",
      "\n",
      "Nevertheless, the problem may be part of a dataset where they assign labels based on in-simulation truth BDT for quark vs gluon. We must infer based solely on heuristic.\n",
      "\n",
      "We are to respond with either 0 or 1.\n",
      "\n",
      "I will reason more systematically.\n",
      "\n",
      "Observations:\n",
      "\n",
      "- The jet includes many photons (pid 22). Meanwhile there are some charged hadrons (pions, kaons). A quark jet tends to have more charged hadrons than gluon jet? Actually, both have mix of charged/neutral. However the presence of many photons (which come from pi0 decays) suggests hadronic origin. In high-energy fragmentation, multiple pi0 mesons decaying into photons populate jets.\n",
      "\n",
      "- The fractions: all listed pid=22 except for a few: particle 3 (pid -211), 4 (pid -321), 5 (pid -211), 8 (pid 211), 9 (pid 321), 10 (pid -211). So we have 6 non-photon particles (charged hadrons). Others are photons.\n",
      "\n",
      "Thus out of 18 particles, 12 are photons, 6 are charged hadrons. So photon fraction ~67%. That's a lot. Is that typical for a high-energy quark jet? At high energies, neutral pions are abundant; each pi0 decays into two photons. So maybe can dominate. But the ratio of photons to charged hadrons (photons inclusive of all photons from pi0 decays as separate) might be roughly 2:1 given each pi0 yields 2 photons, and charged pions produce no photons. Assuming charged/neutral roughly equal? I'd guess typical hadron fragmentation yields about equal number of neutral and charged pions; each neutral yields 2 photons. So photon count may exceed charged hadrons somewhat, but actual identified photon objects may be less distinct due to merging.\n",
      "\n",
      "Nevertheless, 12 photons vs 6 charged may be plausible for a typical jet.\n",
      "\n",
      "Now the kinematic distribution: The leading pt is huge compared to others, indicating a \"hard core\". This is typical of quark jets. Gluon jets have softer energy distribution and larger particle multiplicity. The ratio of high pt constituents above some threshold is high.\n",
      "\n",
      "Thus likely quark.\n",
      "\n",
      "However, the presence of many photons might hint at \"gluon jet fragmentation yields a softer spectrum and many low-energy hadrons; but also a gluon hadronizes into more hadrons overall. Photons (pi0 decays) often are low-energy; they appear in the many low-pt tail. Here many low-pt photons exist: 0.269, 0.160 etc. But also some moderate ones: 4.108, 6.776, 13.255, 21.646, 37.374, 44.214, 335 GeV etc. Actually most of the moderate-high pt are also photons. So high-energy photons are unusually high.\n",
      "\n",
      "But we can also consider that high-pt photons might be mis-identified \"electrons\"? But not relevant.\n",
      "\n",
      "Alternatively, maybe this is from a particular physics simulation where they classify jets based on the highest pt particle type: a photon-dominated jet might be considered \"gluon\"? Not sure.\n",
      "\n",
      "Let's think about typical features used for quark-gluon discrimination: multiplicity, fragmentation function (z distribution), angular spread, charged particle multiplicity, and \"pull\". Quark jets are narrower, have less radiation and lower multiplicity, higher fraction of energy carried by leading particle. So the data points to a quark jet.\n",
      "\n",
      "Thus answer: 1.\n",
      "\n",
      "But to ensure correct, let's consider extreme possibilities: Could this be a photon-initiated jet (i.e., from a photon splitting to quark pair) but classification limited to quark vs gluon? Photon-initiated jets are rarer. Might be misinterpretation.\n",
      "\n",
      "Now, let's reflect on the actual requirement: \"Based on the particle content and kinematics, is this a quark jet (1) or gluon jet (0)? Respond with ONLY the number 0 or 1.\" So they expect a binary answer based on some heuristics. Most likely they want us to implement or conceptualize a classifier that uses typical patterns: if majority of constituents are photons and have a very hard leading particle, probably quark? Or maybe they want to see if the jet is \"gluon-like\" due to many soft particles, but we see many photons but also many high pt photons; the multiplicity is moderate.\n",
      "\n",
      "Alternatively, maybe they want to classify based on total particle count: if number of constituents > some threshold maybe gluon; else quark. Here 18 constituents, but for about 500 GeV jets, typical average multiplicity maybe ~50 for gluon and ~30 for quark? 18 is low for both? Without explicit threshold, it's ambiguous.\n",
      "\n",
      "We could compute average pt per constituent: total pt 500 GeV / 18 ≈ 27.8 GeV. That's high. Quark jets have higher average pt per particle than gluon jets.\n",
      "\n",
      "Thus I'll go with quark = 1.\n",
      "\n",
      "Potential nuance: the highest pt is photon, but leading hadron could be either photon or hadron. In partonic origin classification, the leading particle type may not be reliable.\n",
      "\n",
      "Thus answer: 1.\n",
      "\n",
      "I'll just output \"1\". 1\n",
      "────────────────────────────────────────────────────────────\n",
      "\n",
      "\n",
      "════════════════════════════════════════════════════════════\n",
      "📈 CUMULATIVE STATISTICS\n",
      "════════════════════════════════════════════════════════════\n",
      "Total prompt tokens:     695\n",
      "Total completion tokens: 1,040\n",
      "Total reasoning tokens:  1,039\n",
      "Total tokens:            2,774\n",
      "\n",
      "💰 Total estimated cost: $0.000676\n",
      "════════════════════════════════════════════════════════════\n",
      "\n",
      "\n",
      "======================================================================\n",
      "SUMMARY\n",
      "======================================================================\n",
      "Effort     Reasoning    Total        Time       Pred\n",
      "----------------------------------------------------------------------\n",
      "low        61           818          0.78      s 0\n",
      "medium     185          1,066        2.59      s 1\n",
      "high       1,039        2,774        11.89     s 1\n"
     ]
    }
   ],
   "source": [
    "# Test different reasoning efforts on a single jet\n",
    "test_jet = X[0]\n",
    "\n",
    "efforts = [\"low\", \"medium\", \"high\"]\n",
    "results = []\n",
    "\n",
    "for effort in efforts:\n",
    "    print(f\"\\n{'='*60}\")\n",
    "    print(f\"Testing with reasoning_effort={effort}\")\n",
    "    print(f\"{'='*60}\")\n",
    "    \n",
    "    clf_test = LocalLLMClassifier(\n",
    "        model_name=\"openai/gpt-oss-120b\",\n",
    "        template_name=\"simple_list\",\n",
    "        format_type=\"list\",\n",
    "        templates_dir=str(Path.cwd().parent / 'templates'),\n",
    "        reasoning_effort=effort,\n",
    "        base_url=\"http://localhost:8000/v1\",\n",
    "        api_key=\"EMPTY\"\n",
    "    )\n",
    "    clf_test.fit([], [])\n",
    "    \n",
    "    start = time.time()\n",
    "    pred = clf_test.predict([test_jet], verbose=True, use_async=False)[0]\n",
    "    elapsed = time.time() - start\n",
    "    \n",
    "    results.append({\n",
    "        'effort': effort,\n",
    "        'prediction': pred,\n",
    "        'reasoning_tokens': clf_test.total_reasoning_tokens,\n",
    "        'total_tokens': clf_test.total_prompt_tokens + clf_test.total_completion_tokens + clf_test.total_reasoning_tokens,\n",
    "        'time': elapsed\n",
    "    })\n",
    "\n",
    "# Summary\n",
    "print(f\"\\n{'='*70}\")\n",
    "print(\"SUMMARY\")\n",
    "print(f\"{'='*70}\")\n",
    "print(f\"{'Effort':<10} {'Reasoning':<12} {'Total':<12} {'Time':<10} {'Pred'}\")\n",
    "print(\"-\" * 70)\n",
    "for r in results:\n",
    "    print(f\"{r['effort']:<10} {r['reasoning_tokens']:<12,} {r['total_tokens']:<12,} {r['time']:<10.2f}s {r['prediction']}\")"
   ]
  },
  {
   "cell_type": "markdown",
   "id": "090f420e",
   "metadata": {},
   "source": [
    "## Async vs Sequential Comparison\n",
    "\n",
    "Compare async (concurrent) vs sequential processing performance."
   ]
  },
  {
   "cell_type": "code",
   "execution_count": 23,
   "id": "d3435e88",
   "metadata": {},
   "outputs": [
    {
     "name": "stdout",
     "output_type": "stream",
     "text": [
      "Testing on 20 jets...\n",
      "True distribution: 14 quark, 6 gluon\n"
     ]
    }
   ],
   "source": [
    "# Select test jets\n",
    "n_test = 20\n",
    "X_test = X[:n_test]\n",
    "y_test = y[:n_test]\n",
    "\n",
    "print(f\"Testing on {n_test} jets...\")\n",
    "print(f\"True distribution: {(y_test == 1).sum()} quark, {(y_test == 0).sum()} gluon\")"
   ]
  },
  {
   "cell_type": "code",
   "execution_count": 24,
   "id": "ceccfa0a",
   "metadata": {},
   "outputs": [
    {
     "name": "stdout",
     "output_type": "stream",
     "text": [
      "\n",
      "======================================================================\n",
      "ASYNC MODE (Concurrent Processing)\n",
      "======================================================================\n",
      "\n",
      "Time: 13.58s (0.68s per jet)\n",
      "Accuracy: 0.650\n",
      "Total tokens: 36,253\n"
     ]
    }
   ],
   "source": [
    "# Test ASYNC mode (default, much faster)\n",
    "print(\"\\n\" + \"=\"*70)\n",
    "print(\"ASYNC MODE (Concurrent Processing)\")\n",
    "print(\"=\"*70)\n",
    "\n",
    "clf_async = LocalLLMClassifier(\n",
    "    model_name=\"openai/gpt-oss-120b\",\n",
    "    template_name=\"simple_list\",\n",
    "    format_type=\"list\",\n",
    "    templates_dir=str(Path.cwd().parent / 'templates'),\n",
    "    reasoning_effort=\"medium\",\n",
    "    base_url=\"http://localhost:8000/v1\",\n",
    "    api_key=\"EMPTY\"\n",
    ")\n",
    "clf_async.fit([], [])\n",
    "\n",
    "start = time.time()\n",
    "predictions_async = clf_async.predict(X_test, verbose=False, use_async=True)\n",
    "time_async = time.time() - start\n",
    "\n",
    "accuracy_async = accuracy_score(y_test, predictions_async)\n",
    "print(f\"\\nTime: {time_async:.2f}s ({time_async/n_test:.2f}s per jet)\")\n",
    "print(f\"Accuracy: {accuracy_async:.3f}\")\n",
    "print(f\"Total tokens: {clf_async.total_prompt_tokens + clf_async.total_completion_tokens + clf_async.total_reasoning_tokens:,}\")"
   ]
  },
  {
   "cell_type": "code",
   "execution_count": 25,
   "id": "2c4010cc",
   "metadata": {},
   "outputs": [
    {
     "name": "stdout",
     "output_type": "stream",
     "text": [
      "\n",
      "======================================================================\n",
      "SEQUENTIAL MODE (One at a time)\n",
      "======================================================================\n",
      "\n",
      "Time: 68.24s (3.41s per jet)\n",
      "Accuracy: 0.550\n",
      "Total tokens: 38,467\n"
     ]
    }
   ],
   "source": [
    "# Test SEQUENTIAL mode (slower, for comparison)\n",
    "print(\"\\n\" + \"=\"*70)\n",
    "print(\"SEQUENTIAL MODE (One at a time)\")\n",
    "print(\"=\"*70)\n",
    "\n",
    "clf_seq = LocalLLMClassifier(\n",
    "    model_name=\"openai/gpt-oss-120b\",\n",
    "    template_name=\"simple_list\",\n",
    "    format_type=\"list\",\n",
    "    templates_dir=str(Path.cwd().parent / 'templates'),\n",
    "    reasoning_effort=\"medium\",\n",
    "    base_url=\"http://localhost:8000/v1\",\n",
    "    api_key=\"EMPTY\"\n",
    ")\n",
    "clf_seq.fit([], [])\n",
    "\n",
    "start = time.time()\n",
    "predictions_seq = clf_seq.predict(X_test, verbose=False, use_async=False)\n",
    "time_seq = time.time() - start\n",
    "\n",
    "accuracy_seq = accuracy_score(y_test, predictions_seq)\n",
    "print(f\"\\nTime: {time_seq:.2f}s ({time_seq/n_test:.2f}s per jet)\")\n",
    "print(f\"Accuracy: {accuracy_seq:.3f}\")\n",
    "print(f\"Total tokens: {clf_seq.total_prompt_tokens + clf_seq.total_completion_tokens + clf_seq.total_reasoning_tokens:,}\")"
   ]
  },
  {
   "cell_type": "code",
   "execution_count": 26,
   "id": "ced6f01b",
   "metadata": {},
   "outputs": [
    {
     "name": "stdout",
     "output_type": "stream",
     "text": [
      "\n",
      "======================================================================\n",
      "COMPARISON SUMMARY\n",
      "======================================================================\n",
      "\n",
      "Async mode:      13.58s (0.68s per jet)\n",
      "Sequential mode: 68.24s (3.41s per jet)\n",
      "\n",
      "Speedup: 5.0x faster with async\n",
      "\n",
      "Accuracy (async):     0.650\n",
      "Accuracy (sequential): 0.550\n",
      "\n",
      "Predictions match: False\n"
     ]
    }
   ],
   "source": [
    "# Comparison summary\n",
    "print(\"\\n\" + \"=\"*70)\n",
    "print(\"COMPARISON SUMMARY\")\n",
    "print(\"=\"*70)\n",
    "print(f\"\\nAsync mode:      {time_async:.2f}s ({time_async/n_test:.2f}s per jet)\")\n",
    "print(f\"Sequential mode: {time_seq:.2f}s ({time_seq/n_test:.2f}s per jet)\")\n",
    "print(f\"\\nSpeedup: {time_seq/time_async:.1f}x faster with async\")\n",
    "print(f\"\\nAccuracy (async):     {accuracy_async:.3f}\")\n",
    "print(f\"Accuracy (sequential): {accuracy_seq:.3f}\")\n",
    "print(f\"\\nPredictions match: {np.array_equal(predictions_async, predictions_seq)}\")"
   ]
  },
  {
   "cell_type": "markdown",
   "id": "234121fa",
   "metadata": {},
   "source": [
    "## Evaluate Performance on 100 Jets\n",
    "\n",
    "Run the classifier on more jets and compute detailed metrics."
   ]
  },
  {
   "cell_type": "code",
   "execution_count": 36,
   "id": "192eb5af",
   "metadata": {},
   "outputs": [
    {
     "name": "stdout",
     "output_type": "stream",
     "text": [
      "Evaluating on 100 jets...\n",
      "True distribution: 55 quark, 45 gluon\n"
     ]
    }
   ],
   "source": [
    "# Select 100 jets for evaluation\n",
    "n_eval = 100\n",
    "X_eval = X[:n_eval]\n",
    "y_eval = y[:n_eval]\n",
    "\n",
    "print(f\"Evaluating on {n_eval} jets...\")\n",
    "print(f\"True distribution: {(y_eval == 1).sum()} quark, {(y_eval == 0).sum()} gluon\")"
   ]
  },
  {
   "cell_type": "code",
   "execution_count": 37,
   "id": "2858c1a9",
   "metadata": {},
   "outputs": [
    {
     "name": "stdout",
     "output_type": "stream",
     "text": [
      "Making predictions (async mode)...\n",
      "\n",
      "Completed in 38.85s (0.39s per jet)\n",
      "Total tokens used: 191,830\n"
     ]
    }
   ],
   "source": [
    "# Make predictions using async (fastest)\n",
    "from tqdm.auto import tqdm\n",
    "\n",
    "clf_eval = LocalLLMClassifier(\n",
    "    model_name=\"openai/gpt-oss-120b\",\n",
    "    template_name=\"simple_list\",\n",
    "    format_type=\"list\",\n",
    "    templates_dir=str(Path.cwd().parent / 'templates'),\n",
    "    reasoning_effort=\"medium\",\n",
    "    base_url=\"http://localhost:8000/v1\",\n",
    "    api_key=\"EMPTY\"\n",
    ")\n",
    "clf_eval.fit([], [])\n",
    "\n",
    "print(\"Making predictions (async mode)...\")\n",
    "start = time.time()\n",
    "predictions = clf_eval.predict(X_eval, verbose=False, use_async=True)\n",
    "elapsed = time.time() - start\n",
    "\n",
    "predictions = np.array(predictions)\n",
    "\n",
    "print(f\"\\nCompleted in {elapsed:.2f}s ({elapsed/n_eval:.2f}s per jet)\")\n",
    "print(f\"Total tokens used: {clf_eval.total_prompt_tokens + clf_eval.total_completion_tokens + clf_eval.total_reasoning_tokens:,}\")"
   ]
  },
  {
   "cell_type": "markdown",
   "id": "8c21ecb0",
   "metadata": {},
   "source": [
    "## Results and Metrics"
   ]
  },
  {
   "cell_type": "code",
   "execution_count": 38,
   "id": "096ca49d",
   "metadata": {},
   "outputs": [
    {
     "name": "stdout",
     "output_type": "stream",
     "text": [
      "\n",
      "==================================================\n",
      "RESULTS\n",
      "==================================================\n",
      "Accuracy: 0.650\n",
      "AUC Score: 0.652\n",
      "\n",
      "Predicted distribution: 50 quark, 50 gluon\n",
      "True distribution: 55 quark, 45 gluon\n"
     ]
    }
   ],
   "source": [
    "# Calculate metrics\n",
    "accuracy = accuracy_score(y_eval, predictions)\n",
    "auc = roc_auc_score(y_eval, predictions)\n",
    "\n",
    "print(\"\\n\" + \"=\"*50)\n",
    "print(\"RESULTS\")\n",
    "print(\"=\"*50)\n",
    "print(f\"Accuracy: {accuracy:.3f}\")\n",
    "print(f\"AUC Score: {auc:.3f}\")\n",
    "print(f\"\\nPredicted distribution: {(predictions == 1).sum()} quark, {(predictions == 0).sum()} gluon\")\n",
    "print(f\"True distribution: {(y_eval == 1).sum()} quark, {(y_eval == 0).sum()} gluon\")"
   ]
  },
  {
   "cell_type": "code",
   "execution_count": 39,
   "id": "9e4dfc8f",
   "metadata": {},
   "outputs": [
    {
     "name": "stdout",
     "output_type": "stream",
     "text": [
      "\n",
      "Confusion Matrix:\n",
      "                Predicted\n",
      "                Gluon  Quark\n",
      "True  Gluon        30     15\n",
      "      Quark        20     35\n"
     ]
    }
   ],
   "source": [
    "# Confusion matrix\n",
    "cm = confusion_matrix(y_eval, predictions)\n",
    "print(\"\\nConfusion Matrix:\")\n",
    "print(\"                Predicted\")\n",
    "print(\"                Gluon  Quark\")\n",
    "print(f\"True  Gluon     {cm[0,0]:5d}  {cm[0,1]:5d}\")\n",
    "print(f\"      Quark     {cm[1,0]:5d}  {cm[1,1]:5d}\")"
   ]
  },
  {
   "cell_type": "code",
   "execution_count": 40,
   "id": "4297d33b",
   "metadata": {},
   "outputs": [
    {
     "data": {
      "image/png": "[encoded data removed]",
      "text/plain": [
       "<Figure size 800x600 with 2 Axes>"
      ]
     },
     "metadata": {},
     "output_type": "display_data"
    }
   ],
   "source": [
    "# Visualize confusion matrix\n",
    "import matplotlib.pyplot as plt\n",
    "import seaborn as sns\n",
    "\n",
    "plt.figure(figsize=(8, 6))\n",
    "sns.heatmap(cm, annot=True, fmt='d', cmap='Blues', \n",
    "            xticklabels=['Gluon (0)', 'Quark (1)'],\n",
    "            yticklabels=['Gluon (0)', 'Quark (1)'])\n",
    "plt.ylabel('True Label')\n",
    "plt.xlabel('Predicted Label')\n",
    "plt.title(f'Confusion Matrix - Local LLM Classifier\\nAccuracy: {accuracy:.3f}, AUC: {auc:.3f}')\n",
    "plt.tight_layout()\n",
    "plt.show()"
   ]
  },
  {
   "cell_type": "markdown",
   "id": "aaef0911",
   "metadata": {},
   "source": [
    "## Performance Summary\n",
    "\n",
    "Key takeaways from the local LLM classifier:\n",
    "\n",
    "1. **Async Processing**: Significantly faster than sequential (typically 5-10x speedup)\n",
    "2. **Reasoning Effort**: Higher effort levels use more tokens but may improve accuracy\n",
    "3. **Local Deployment**: No API costs, full control over infrastructure\n",
    "4. **Zero-Shot**: No training required, just prompt engineering"
   ]
  },
  {
   "cell_type": "markdown",
   "id": "c10f582a",
   "metadata": {},
   "source": []
  }
 ],
 "metadata": {
  "kernelspec": {
   "display_name": ".venv",
   "language": "python",
   "name": "python3"
  },
  "language_info": {
   "codemirror_mode": {
    "name": "ipython",
    "version": 3
   },
   "file_extension": ".py",
   "mimetype": "text/x-python",
   "name": "python",
   "nbconvert_exporter": "python",
   "pygments_lexer": "ipython3",
   "version": "3.13.2"
  }
 },
 "nbformat": 4,
 "nbformat_minor": 5
}
